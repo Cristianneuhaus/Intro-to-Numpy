{
  "nbformat": 4,
  "nbformat_minor": 0,
  "metadata": {
    "colab": {
      "name": "C2 Numpy.ipynb",
      "provenance": [],
      "private_outputs": true,
      "collapsed_sections": [],
      "authorship_tag": "ABX9TyMoPsDQd3UXb/IQdwAEI4Y5",
      "include_colab_link": true
    },
    "kernelspec": {
      "name": "python3",
      "display_name": "Python 3"
    }
  },
  "cells": [
    {
      "cell_type": "markdown",
      "metadata": {
        "id": "view-in-github",
        "colab_type": "text"
      },
      "source": [
        "<a href=\"https://colab.research.google.com/github/cagBRT/Intro-to-Numpy/blob/master/C2_Numpy.ipynb\" target=\"_parent\"><img src=\"https://colab.research.google.com/assets/colab-badge.svg\" alt=\"Open In Colab\"/></a>"
      ]
    },
    {
      "cell_type": "code",
      "metadata": {
        "id": "lfUJXDsIfJ0K",
        "colab_type": "code",
        "colab": {}
      },
      "source": [
        "# Clone the entire repo.\n",
        "!git clone -l -s https://github.com/cagBRT/Intro-to-Numpy.git cloned-repo\n",
        "%cd cloned-repo\n",
        "!ls"
      ],
      "execution_count": 0,
      "outputs": []
    },
    {
      "cell_type": "code",
      "metadata": {
        "id": "o5XAHjmDYXid",
        "colab_type": "code",
        "colab": {}
      },
      "source": [
        "import numpy as np"
      ],
      "execution_count": 0,
      "outputs": []
    },
    {
      "cell_type": "markdown",
      "metadata": {
        "id": "_r0mLEMzXpfh",
        "colab_type": "text"
      },
      "source": [
        "**Find index locations for a given condition**"
      ]
    },
    {
      "cell_type": "code",
      "metadata": {
        "id": "QXlnqwtbXlvH",
        "colab_type": "code",
        "colab": {}
      },
      "source": [
        "# Create an array\n",
        "import numpy as np\n",
        "arr_rand = np.array([8, 8, 3, 7, 7, 0, 4, 2, 5, 2])\n",
        "print(\"Array: \", arr_rand)\n",
        "\n",
        "# Positions where value > 5\n",
        "index_gt5 = np.where(arr_rand > 5)\n",
        "print(\"Positions where value > 5: \", index_gt5)"
      ],
      "execution_count": 0,
      "outputs": []
    },
    {
      "cell_type": "markdown",
      "metadata": {
        "id": "2LiNl0QhYlGg",
        "colab_type": "text"
      },
      "source": [
        "**Creating an array of random numbers**<br>\n",
        "np.random.randint(upper limit of numbers, size of array)"
      ]
    },
    {
      "cell_type": "code",
      "metadata": {
        "id": "XKlchtlxYlYv",
        "colab_type": "code",
        "colab": {}
      },
      "source": [
        "#Create an array of random numbers between 0 - 300\n",
        "randArray = np.random.randint(300, size=10)\n",
        "print(randArray)"
      ],
      "execution_count": 0,
      "outputs": []
    },
    {
      "cell_type": "markdown",
      "metadata": {
        "id": "xV4E8lCVX1Mv",
        "colab_type": "text"
      },
      "source": [
        "# **Assignment #1**\n",
        "1. Create a Numpy array of 100 random numbers between 0 - 1000\n",
        "2. List the indices for all the numbers greater than 700\n"
      ]
    },
    {
      "cell_type": "code",
      "metadata": {
        "id": "Vm__WSlDYQl9",
        "colab_type": "code",
        "colab": {}
      },
      "source": [
        "#Assignment #1"
      ],
      "execution_count": 0,
      "outputs": []
    },
    {
      "cell_type": "markdown",
      "metadata": {
        "id": "ffT2oft_ZcCe",
        "colab_type": "text"
      },
      "source": [
        "**Extracting values by index**<br>\n",
        "Extract values from an array using their index values.<br>\n",
        "array-name(index values)"
      ]
    },
    {
      "cell_type": "code",
      "metadata": {
        "id": "yFjoDE1TZ1dF",
        "colab_type": "code",
        "colab": {}
      },
      "source": [
        "#Create an array of random numbers between 0 - 300\n",
        "randArray = np.random.randint(300, size=10)\n",
        "print(\"Array: \" ,randArray)\n",
        "#Find all values greater than 200\n",
        "index_gt200 = np.where(randArray > 200)\n",
        "print(\"Values gt200: \",index_gt200)\n",
        "# Take values from the array and form a new array\n",
        "newRandArray = randArray.take(index_gt200)\n",
        "print(\"New Rand Array: \" ,newRandArray)\n",
        "#The original array is untouched\n",
        "print(\"Array: \", randArray)"
      ],
      "execution_count": 0,
      "outputs": []
    },
    {
      "cell_type": "markdown",
      "metadata": {
        "id": "C3UXZVlKb6me",
        "colab_type": "text"
      },
      "source": [
        "# **Assignment #2**\n",
        "1. Create an array of 40 random numbers, with values between 0 - 500\n",
        "2. Find all the values less than 250\n",
        "3. Create a new array of all the values less than 250. \n"
      ]
    },
    {
      "cell_type": "code",
      "metadata": {
        "id": "t55JLJuOayQs",
        "colab_type": "code",
        "colab": {}
      },
      "source": [
        ""
      ],
      "execution_count": 0,
      "outputs": []
    },
    {
      "cell_type": "markdown",
      "metadata": {
        "id": "s8fLHdPfcTd5",
        "colab_type": "text"
      },
      "source": [
        "**Find the maximum value in an array using**:<br>\n",
        "np.argmax(array name)<br>\n",
        "**Find the min with**:<br>\n",
        "np.argmin(array name)"
      ]
    },
    {
      "cell_type": "code",
      "metadata": {
        "id": "t97WmGoNc8DM",
        "colab_type": "code",
        "colab": {}
      },
      "source": [
        "randArray = np.random.random(20)\n",
        "print(randArray)\n",
        "print(\"The maximum value is at index: \", np.argmax(randArray))\n",
        "print(\"The minimum value is at index: \", np.argmin(randArray))"
      ],
      "execution_count": 0,
      "outputs": []
    },
    {
      "cell_type": "markdown",
      "metadata": {
        "id": "CR4xdDAbdarZ",
        "colab_type": "text"
      },
      "source": [
        "# **Assignment #3**<br>\n",
        "1. Create an array of 40 random values \n",
        "2. Find the location of the minimum value\n",
        "3. Find the location of the maximum value\n"
      ]
    },
    {
      "cell_type": "markdown",
      "metadata": {
        "id": "j_k7N68xeP3O",
        "colab_type": "text"
      },
      "source": [
        "**Importing files with mixed data types**\n",
        "<br>Data types in a numpy array should all be the same. <br>\n",
        "When a file has a mix of data types, the non-conforming values are changed to 'nan'<br>\n"
      ]
    },
    {
      "cell_type": "code",
      "metadata": {
        "id": "StoSvJLTfuIi",
        "colab_type": "code",
        "colab": {}
      },
      "source": [
        "#Use the file carData.csv\n",
        "#List the contents of the file\n",
        "cat carData.csv"
      ],
      "execution_count": 0,
      "outputs": []
    },
    {
      "cell_type": "code",
      "metadata": {
        "id": "VMXseIbddokn",
        "colab_type": "code",
        "colab": {}
      },
      "source": [
        "# Turn off scientific notation\n",
        "np.set_printoptions(suppress=True)  \n",
        "\n",
        "# Import data from csv file url\n",
        "path = 'carData.csv'\n",
        "\n",
        "data = np.genfromtxt(path, delimiter=',', skip_header=1, dtype='float')\n",
        "data[:3]  # see first 3 rows\n",
        "\n",
        "#Notice the last value is the model name. \n",
        "#In the numpy array it becomes nan"
      ],
      "execution_count": 0,
      "outputs": []
    },
    {
      "cell_type": "markdown",
      "metadata": {
        "id": "HgazdBLCgtxB",
        "colab_type": "text"
      },
      "source": [
        "**Change the Nan value when importing a file**<br>\n",
        "When importing, the values can be changed value different than nan. Use the filling_values parameter. "
      ]
    },
    {
      "cell_type": "code",
      "metadata": {
        "id": "-Gx9b3xCd-AN",
        "colab_type": "code",
        "colab": {}
      },
      "source": [
        "data = np.genfromtxt(path, delimiter=',', skip_header=1, filling_values=-999, dtype='float')\n",
        "data[:3]  # see first 3 rows"
      ],
      "execution_count": 0,
      "outputs": []
    },
    {
      "cell_type": "markdown",
      "metadata": {
        "id": "4CqfNTZAhxMg",
        "colab_type": "text"
      },
      "source": [
        "**Keep text columns when importing files**<br>\n",
        "Keep the text column by declaring the dtype as object"
      ]
    },
    {
      "cell_type": "code",
      "metadata": {
        "id": "IIneycZth_wW",
        "colab_type": "code",
        "colab": {}
      },
      "source": [
        "# Import data from csv file url\n",
        "path = 'carData.csv'\n",
        "\n",
        "data = np.genfromtxt(path, delimiter=',', skip_header=1, dtype=object)\n",
        "data[:3]  # see first 3 rows\n"
      ],
      "execution_count": 0,
      "outputs": []
    }
  ]
}